{
  "nbformat": 4,
  "nbformat_minor": 0,
  "metadata": {
    "colab": {
      "provenance": []
    },
    "kernelspec": {
      "name": "python3",
      "display_name": "Python 3"
    },
    "language_info": {
      "name": "python"
    }
  },
  "cells": [
    {
      "cell_type": "markdown",
      "source": [
        "#  Apresentação\n",
        "\n",
        "Olá caro leitor, tudo bem? Meu nome é Maike Heris do Amaral Belarmino, eu sou aluno do curso de Licenciatura em Física da Universidade Federal de São Carlos (UFSCar). O objetivo desse documento é fornecer as bases para que o programador possa encontrar meios de trabalhar com a biblioteca OpenCV e difundir conhecimentos na língua portuguesa sobre Visão Computacional.\n",
        "\n",
        "Esse documento é inteiramente produzido sem fins lucrativos e, caso queira contribuir para o avanço do projeto, saiba que no Sumário há uma seção explicando o passo a passo para melhoramento do documento.\n"
      ],
      "metadata": {
        "id": "qjP_XqZmfe_T"
      }
    },
    {
      "cell_type": "code",
      "source": [],
      "metadata": {
        "id": "wC1LlxRshT5K"
      },
      "execution_count": null,
      "outputs": []
    }
  ]
}